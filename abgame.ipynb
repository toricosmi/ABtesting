{
  "nbformat": 4,
  "nbformat_minor": 0,
  "metadata": {
    "colab": {
      "provenance": []
    },
    "kernelspec": {
      "name": "python3",
      "display_name": "Python 3"
    },
    "language_info": {
      "name": "python"
    }
  },
  "cells": [
    {
      "cell_type": "markdown",
      "source": [
        "Попробуем несколькими разными способами обсчитать результаты АБ-теста."
      ],
      "metadata": {
        "id": "W1Q_DbKgFtkm"
      }
    },
    {
      "cell_type": "code",
      "source": [
        "import numpy as np\n",
        "import pandas as pd\n",
        "import seaborn as sns\n",
        "from scipy import stats\n",
        "from statsmodels.stats.proportion import proportions_ztest, proportion_confint\n",
        "from statsmodels.stats.power import zt_ind_solve_power\n",
        "import matplotlib.pyplot as plt\n",
        "from tqdm.notebook import tqdm\n",
        "\n",
        "plt.style.use('seaborn-v0_8-darkgrid')\n",
        "sns.set_palette(\"husl\")\n",
        "%config InlineBackend.figure_format = 'retina'\n",
        "\n",
        "# Загрузка и предобработка данных\n",
        "game_data = pd.read_csv('cookie_cats.csv')\n",
        "print(f\"Размерность данных: {game_data.shape}\")\n",
        "game_data.rename(columns={\n",
        "    'userid': 'player_id',\n",
        "    'version': 'game_version',\n",
        "    'sum_gamerounds': 'total_rounds',\n",
        "    'retention_1': 'day1_retention',\n",
        "    'retention_7': 'day7_retention'\n",
        "}, inplace=True)"
      ],
      "metadata": {
        "colab": {
          "base_uri": "https://localhost:8080/"
        },
        "id": "flECnDwTD2yA",
        "outputId": "49b3e544-8195-404e-8195-65bfc2cdb144"
      },
      "execution_count": 63,
      "outputs": [
        {
          "output_type": "stream",
          "name": "stdout",
          "text": [
            "Размерность данных: (90189, 5)\n"
          ]
        }
      ]
    },
    {
      "cell_type": "code",
      "source": [
        "game_data"
      ],
      "metadata": {
        "colab": {
          "base_uri": "https://localhost:8080/",
          "height": 423
        },
        "id": "dPZpR_njFqHU",
        "outputId": "0b9142e5-cc0a-4e39-aeb7-23e9618e958e"
      },
      "execution_count": 64,
      "outputs": [
        {
          "output_type": "execute_result",
          "data": {
            "text/plain": [
              "       player_id game_version  total_rounds  day1_retention  day7_retention\n",
              "0            116      gate_30             3           False           False\n",
              "1            337      gate_30            38            True           False\n",
              "2            377      gate_40           165            True           False\n",
              "3            483      gate_40             1           False           False\n",
              "4            488      gate_40           179            True            True\n",
              "...          ...          ...           ...             ...             ...\n",
              "90184    9999441      gate_40            97            True           False\n",
              "90185    9999479      gate_40            30           False           False\n",
              "90186    9999710      gate_30            28            True           False\n",
              "90187    9999768      gate_40            51            True           False\n",
              "90188    9999861      gate_40            16           False           False\n",
              "\n",
              "[90189 rows x 5 columns]"
            ],
            "text/html": [
              "\n",
              "  <div id=\"df-e092d0d3-81a0-4fa1-9235-2f7171ca6bbc\" class=\"colab-df-container\">\n",
              "    <div>\n",
              "<style scoped>\n",
              "    .dataframe tbody tr th:only-of-type {\n",
              "        vertical-align: middle;\n",
              "    }\n",
              "\n",
              "    .dataframe tbody tr th {\n",
              "        vertical-align: top;\n",
              "    }\n",
              "\n",
              "    .dataframe thead th {\n",
              "        text-align: right;\n",
              "    }\n",
              "</style>\n",
              "<table border=\"1\" class=\"dataframe\">\n",
              "  <thead>\n",
              "    <tr style=\"text-align: right;\">\n",
              "      <th></th>\n",
              "      <th>player_id</th>\n",
              "      <th>game_version</th>\n",
              "      <th>total_rounds</th>\n",
              "      <th>day1_retention</th>\n",
              "      <th>day7_retention</th>\n",
              "    </tr>\n",
              "  </thead>\n",
              "  <tbody>\n",
              "    <tr>\n",
              "      <th>0</th>\n",
              "      <td>116</td>\n",
              "      <td>gate_30</td>\n",
              "      <td>3</td>\n",
              "      <td>False</td>\n",
              "      <td>False</td>\n",
              "    </tr>\n",
              "    <tr>\n",
              "      <th>1</th>\n",
              "      <td>337</td>\n",
              "      <td>gate_30</td>\n",
              "      <td>38</td>\n",
              "      <td>True</td>\n",
              "      <td>False</td>\n",
              "    </tr>\n",
              "    <tr>\n",
              "      <th>2</th>\n",
              "      <td>377</td>\n",
              "      <td>gate_40</td>\n",
              "      <td>165</td>\n",
              "      <td>True</td>\n",
              "      <td>False</td>\n",
              "    </tr>\n",
              "    <tr>\n",
              "      <th>3</th>\n",
              "      <td>483</td>\n",
              "      <td>gate_40</td>\n",
              "      <td>1</td>\n",
              "      <td>False</td>\n",
              "      <td>False</td>\n",
              "    </tr>\n",
              "    <tr>\n",
              "      <th>4</th>\n",
              "      <td>488</td>\n",
              "      <td>gate_40</td>\n",
              "      <td>179</td>\n",
              "      <td>True</td>\n",
              "      <td>True</td>\n",
              "    </tr>\n",
              "    <tr>\n",
              "      <th>...</th>\n",
              "      <td>...</td>\n",
              "      <td>...</td>\n",
              "      <td>...</td>\n",
              "      <td>...</td>\n",
              "      <td>...</td>\n",
              "    </tr>\n",
              "    <tr>\n",
              "      <th>90184</th>\n",
              "      <td>9999441</td>\n",
              "      <td>gate_40</td>\n",
              "      <td>97</td>\n",
              "      <td>True</td>\n",
              "      <td>False</td>\n",
              "    </tr>\n",
              "    <tr>\n",
              "      <th>90185</th>\n",
              "      <td>9999479</td>\n",
              "      <td>gate_40</td>\n",
              "      <td>30</td>\n",
              "      <td>False</td>\n",
              "      <td>False</td>\n",
              "    </tr>\n",
              "    <tr>\n",
              "      <th>90186</th>\n",
              "      <td>9999710</td>\n",
              "      <td>gate_30</td>\n",
              "      <td>28</td>\n",
              "      <td>True</td>\n",
              "      <td>False</td>\n",
              "    </tr>\n",
              "    <tr>\n",
              "      <th>90187</th>\n",
              "      <td>9999768</td>\n",
              "      <td>gate_40</td>\n",
              "      <td>51</td>\n",
              "      <td>True</td>\n",
              "      <td>False</td>\n",
              "    </tr>\n",
              "    <tr>\n",
              "      <th>90188</th>\n",
              "      <td>9999861</td>\n",
              "      <td>gate_40</td>\n",
              "      <td>16</td>\n",
              "      <td>False</td>\n",
              "      <td>False</td>\n",
              "    </tr>\n",
              "  </tbody>\n",
              "</table>\n",
              "<p>90189 rows × 5 columns</p>\n",
              "</div>\n",
              "    <div class=\"colab-df-buttons\">\n",
              "\n",
              "  <div class=\"colab-df-container\">\n",
              "    <button class=\"colab-df-convert\" onclick=\"convertToInteractive('df-e092d0d3-81a0-4fa1-9235-2f7171ca6bbc')\"\n",
              "            title=\"Convert this dataframe to an interactive table.\"\n",
              "            style=\"display:none;\">\n",
              "\n",
              "  <svg xmlns=\"http://www.w3.org/2000/svg\" height=\"24px\" viewBox=\"0 -960 960 960\">\n",
              "    <path d=\"M120-120v-720h720v720H120Zm60-500h600v-160H180v160Zm220 220h160v-160H400v160Zm0 220h160v-160H400v160ZM180-400h160v-160H180v160Zm440 0h160v-160H620v160ZM180-180h160v-160H180v160Zm440 0h160v-160H620v160Z\"/>\n",
              "  </svg>\n",
              "    </button>\n",
              "\n",
              "  <style>\n",
              "    .colab-df-container {\n",
              "      display:flex;\n",
              "      gap: 12px;\n",
              "    }\n",
              "\n",
              "    .colab-df-convert {\n",
              "      background-color: #E8F0FE;\n",
              "      border: none;\n",
              "      border-radius: 50%;\n",
              "      cursor: pointer;\n",
              "      display: none;\n",
              "      fill: #1967D2;\n",
              "      height: 32px;\n",
              "      padding: 0 0 0 0;\n",
              "      width: 32px;\n",
              "    }\n",
              "\n",
              "    .colab-df-convert:hover {\n",
              "      background-color: #E2EBFA;\n",
              "      box-shadow: 0px 1px 2px rgba(60, 64, 67, 0.3), 0px 1px 3px 1px rgba(60, 64, 67, 0.15);\n",
              "      fill: #174EA6;\n",
              "    }\n",
              "\n",
              "    .colab-df-buttons div {\n",
              "      margin-bottom: 4px;\n",
              "    }\n",
              "\n",
              "    [theme=dark] .colab-df-convert {\n",
              "      background-color: #3B4455;\n",
              "      fill: #D2E3FC;\n",
              "    }\n",
              "\n",
              "    [theme=dark] .colab-df-convert:hover {\n",
              "      background-color: #434B5C;\n",
              "      box-shadow: 0px 1px 3px 1px rgba(0, 0, 0, 0.15);\n",
              "      filter: drop-shadow(0px 1px 2px rgba(0, 0, 0, 0.3));\n",
              "      fill: #FFFFFF;\n",
              "    }\n",
              "  </style>\n",
              "\n",
              "    <script>\n",
              "      const buttonEl =\n",
              "        document.querySelector('#df-e092d0d3-81a0-4fa1-9235-2f7171ca6bbc button.colab-df-convert');\n",
              "      buttonEl.style.display =\n",
              "        google.colab.kernel.accessAllowed ? 'block' : 'none';\n",
              "\n",
              "      async function convertToInteractive(key) {\n",
              "        const element = document.querySelector('#df-e092d0d3-81a0-4fa1-9235-2f7171ca6bbc');\n",
              "        const dataTable =\n",
              "          await google.colab.kernel.invokeFunction('convertToInteractive',\n",
              "                                                    [key], {});\n",
              "        if (!dataTable) return;\n",
              "\n",
              "        const docLinkHtml = 'Like what you see? Visit the ' +\n",
              "          '<a target=\"_blank\" href=https://colab.research.google.com/notebooks/data_table.ipynb>data table notebook</a>'\n",
              "          + ' to learn more about interactive tables.';\n",
              "        element.innerHTML = '';\n",
              "        dataTable['output_type'] = 'display_data';\n",
              "        await google.colab.output.renderOutput(dataTable, element);\n",
              "        const docLink = document.createElement('div');\n",
              "        docLink.innerHTML = docLinkHtml;\n",
              "        element.appendChild(docLink);\n",
              "      }\n",
              "    </script>\n",
              "  </div>\n",
              "\n",
              "\n",
              "<div id=\"df-d9e38703-f668-49d4-acd0-f765d3270c2c\">\n",
              "  <button class=\"colab-df-quickchart\" onclick=\"quickchart('df-d9e38703-f668-49d4-acd0-f765d3270c2c')\"\n",
              "            title=\"Suggest charts\"\n",
              "            style=\"display:none;\">\n",
              "\n",
              "<svg xmlns=\"http://www.w3.org/2000/svg\" height=\"24px\"viewBox=\"0 0 24 24\"\n",
              "     width=\"24px\">\n",
              "    <g>\n",
              "        <path d=\"M19 3H5c-1.1 0-2 .9-2 2v14c0 1.1.9 2 2 2h14c1.1 0 2-.9 2-2V5c0-1.1-.9-2-2-2zM9 17H7v-7h2v7zm4 0h-2V7h2v10zm4 0h-2v-4h2v4z\"/>\n",
              "    </g>\n",
              "</svg>\n",
              "  </button>\n",
              "\n",
              "<style>\n",
              "  .colab-df-quickchart {\n",
              "      --bg-color: #E8F0FE;\n",
              "      --fill-color: #1967D2;\n",
              "      --hover-bg-color: #E2EBFA;\n",
              "      --hover-fill-color: #174EA6;\n",
              "      --disabled-fill-color: #AAA;\n",
              "      --disabled-bg-color: #DDD;\n",
              "  }\n",
              "\n",
              "  [theme=dark] .colab-df-quickchart {\n",
              "      --bg-color: #3B4455;\n",
              "      --fill-color: #D2E3FC;\n",
              "      --hover-bg-color: #434B5C;\n",
              "      --hover-fill-color: #FFFFFF;\n",
              "      --disabled-bg-color: #3B4455;\n",
              "      --disabled-fill-color: #666;\n",
              "  }\n",
              "\n",
              "  .colab-df-quickchart {\n",
              "    background-color: var(--bg-color);\n",
              "    border: none;\n",
              "    border-radius: 50%;\n",
              "    cursor: pointer;\n",
              "    display: none;\n",
              "    fill: var(--fill-color);\n",
              "    height: 32px;\n",
              "    padding: 0;\n",
              "    width: 32px;\n",
              "  }\n",
              "\n",
              "  .colab-df-quickchart:hover {\n",
              "    background-color: var(--hover-bg-color);\n",
              "    box-shadow: 0 1px 2px rgba(60, 64, 67, 0.3), 0 1px 3px 1px rgba(60, 64, 67, 0.15);\n",
              "    fill: var(--button-hover-fill-color);\n",
              "  }\n",
              "\n",
              "  .colab-df-quickchart-complete:disabled,\n",
              "  .colab-df-quickchart-complete:disabled:hover {\n",
              "    background-color: var(--disabled-bg-color);\n",
              "    fill: var(--disabled-fill-color);\n",
              "    box-shadow: none;\n",
              "  }\n",
              "\n",
              "  .colab-df-spinner {\n",
              "    border: 2px solid var(--fill-color);\n",
              "    border-color: transparent;\n",
              "    border-bottom-color: var(--fill-color);\n",
              "    animation:\n",
              "      spin 1s steps(1) infinite;\n",
              "  }\n",
              "\n",
              "  @keyframes spin {\n",
              "    0% {\n",
              "      border-color: transparent;\n",
              "      border-bottom-color: var(--fill-color);\n",
              "      border-left-color: var(--fill-color);\n",
              "    }\n",
              "    20% {\n",
              "      border-color: transparent;\n",
              "      border-left-color: var(--fill-color);\n",
              "      border-top-color: var(--fill-color);\n",
              "    }\n",
              "    30% {\n",
              "      border-color: transparent;\n",
              "      border-left-color: var(--fill-color);\n",
              "      border-top-color: var(--fill-color);\n",
              "      border-right-color: var(--fill-color);\n",
              "    }\n",
              "    40% {\n",
              "      border-color: transparent;\n",
              "      border-right-color: var(--fill-color);\n",
              "      border-top-color: var(--fill-color);\n",
              "    }\n",
              "    60% {\n",
              "      border-color: transparent;\n",
              "      border-right-color: var(--fill-color);\n",
              "    }\n",
              "    80% {\n",
              "      border-color: transparent;\n",
              "      border-right-color: var(--fill-color);\n",
              "      border-bottom-color: var(--fill-color);\n",
              "    }\n",
              "    90% {\n",
              "      border-color: transparent;\n",
              "      border-bottom-color: var(--fill-color);\n",
              "    }\n",
              "  }\n",
              "</style>\n",
              "\n",
              "  <script>\n",
              "    async function quickchart(key) {\n",
              "      const quickchartButtonEl =\n",
              "        document.querySelector('#' + key + ' button');\n",
              "      quickchartButtonEl.disabled = true;  // To prevent multiple clicks.\n",
              "      quickchartButtonEl.classList.add('colab-df-spinner');\n",
              "      try {\n",
              "        const charts = await google.colab.kernel.invokeFunction(\n",
              "            'suggestCharts', [key], {});\n",
              "      } catch (error) {\n",
              "        console.error('Error during call to suggestCharts:', error);\n",
              "      }\n",
              "      quickchartButtonEl.classList.remove('colab-df-spinner');\n",
              "      quickchartButtonEl.classList.add('colab-df-quickchart-complete');\n",
              "    }\n",
              "    (() => {\n",
              "      let quickchartButtonEl =\n",
              "        document.querySelector('#df-d9e38703-f668-49d4-acd0-f765d3270c2c button');\n",
              "      quickchartButtonEl.style.display =\n",
              "        google.colab.kernel.accessAllowed ? 'block' : 'none';\n",
              "    })();\n",
              "  </script>\n",
              "</div>\n",
              "\n",
              "  <div id=\"id_40d1ebee-5ec0-4f79-8c6a-b3f4de971d23\">\n",
              "    <style>\n",
              "      .colab-df-generate {\n",
              "        background-color: #E8F0FE;\n",
              "        border: none;\n",
              "        border-radius: 50%;\n",
              "        cursor: pointer;\n",
              "        display: none;\n",
              "        fill: #1967D2;\n",
              "        height: 32px;\n",
              "        padding: 0 0 0 0;\n",
              "        width: 32px;\n",
              "      }\n",
              "\n",
              "      .colab-df-generate:hover {\n",
              "        background-color: #E2EBFA;\n",
              "        box-shadow: 0px 1px 2px rgba(60, 64, 67, 0.3), 0px 1px 3px 1px rgba(60, 64, 67, 0.15);\n",
              "        fill: #174EA6;\n",
              "      }\n",
              "\n",
              "      [theme=dark] .colab-df-generate {\n",
              "        background-color: #3B4455;\n",
              "        fill: #D2E3FC;\n",
              "      }\n",
              "\n",
              "      [theme=dark] .colab-df-generate:hover {\n",
              "        background-color: #434B5C;\n",
              "        box-shadow: 0px 1px 3px 1px rgba(0, 0, 0, 0.15);\n",
              "        filter: drop-shadow(0px 1px 2px rgba(0, 0, 0, 0.3));\n",
              "        fill: #FFFFFF;\n",
              "      }\n",
              "    </style>\n",
              "    <button class=\"colab-df-generate\" onclick=\"generateWithVariable('game_data')\"\n",
              "            title=\"Generate code using this dataframe.\"\n",
              "            style=\"display:none;\">\n",
              "\n",
              "  <svg xmlns=\"http://www.w3.org/2000/svg\" height=\"24px\"viewBox=\"0 0 24 24\"\n",
              "       width=\"24px\">\n",
              "    <path d=\"M7,19H8.4L18.45,9,17,7.55,7,17.6ZM5,21V16.75L18.45,3.32a2,2,0,0,1,2.83,0l1.4,1.43a1.91,1.91,0,0,1,.58,1.4,1.91,1.91,0,0,1-.58,1.4L9.25,21ZM18.45,9,17,7.55Zm-12,3A5.31,5.31,0,0,0,4.9,8.1,5.31,5.31,0,0,0,1,6.5,5.31,5.31,0,0,0,4.9,4.9,5.31,5.31,0,0,0,6.5,1,5.31,5.31,0,0,0,8.1,4.9,5.31,5.31,0,0,0,12,6.5,5.46,5.46,0,0,0,6.5,12Z\"/>\n",
              "  </svg>\n",
              "    </button>\n",
              "    <script>\n",
              "      (() => {\n",
              "      const buttonEl =\n",
              "        document.querySelector('#id_40d1ebee-5ec0-4f79-8c6a-b3f4de971d23 button.colab-df-generate');\n",
              "      buttonEl.style.display =\n",
              "        google.colab.kernel.accessAllowed ? 'block' : 'none';\n",
              "\n",
              "      buttonEl.onclick = () => {\n",
              "        google.colab.notebook.generateWithVariable('game_data');\n",
              "      }\n",
              "      })();\n",
              "    </script>\n",
              "  </div>\n",
              "\n",
              "    </div>\n",
              "  </div>\n"
            ],
            "application/vnd.google.colaboratory.intrinsic+json": {
              "type": "dataframe",
              "variable_name": "game_data",
              "summary": "{\n  \"name\": \"game_data\",\n  \"rows\": 90189,\n  \"fields\": [\n    {\n      \"column\": \"player_id\",\n      \"properties\": {\n        \"dtype\": \"number\",\n        \"std\": 2883285,\n        \"min\": 116,\n        \"max\": 9999861,\n        \"num_unique_values\": 90189,\n        \"samples\": [\n          3266525,\n          3937667,\n          2861986\n        ],\n        \"semantic_type\": \"\",\n        \"description\": \"\"\n      }\n    },\n    {\n      \"column\": \"game_version\",\n      \"properties\": {\n        \"dtype\": \"category\",\n        \"num_unique_values\": 2,\n        \"samples\": [\n          \"gate_40\",\n          \"gate_30\"\n        ],\n        \"semantic_type\": \"\",\n        \"description\": \"\"\n      }\n    },\n    {\n      \"column\": \"total_rounds\",\n      \"properties\": {\n        \"dtype\": \"number\",\n        \"std\": 195,\n        \"min\": 0,\n        \"max\": 49854,\n        \"num_unique_values\": 942,\n        \"samples\": [\n          346,\n          523\n        ],\n        \"semantic_type\": \"\",\n        \"description\": \"\"\n      }\n    },\n    {\n      \"column\": \"day1_retention\",\n      \"properties\": {\n        \"dtype\": \"boolean\",\n        \"num_unique_values\": 2,\n        \"samples\": [\n          true,\n          false\n        ],\n        \"semantic_type\": \"\",\n        \"description\": \"\"\n      }\n    },\n    {\n      \"column\": \"day7_retention\",\n      \"properties\": {\n        \"dtype\": \"boolean\",\n        \"num_unique_values\": 2,\n        \"samples\": [\n          true,\n          false\n        ],\n        \"semantic_type\": \"\",\n        \"description\": \"\"\n      }\n    }\n  ]\n}"
            }
          },
          "metadata": {},
          "execution_count": 64
        }
      ]
    },
    {
      "cell_type": "markdown",
      "source": [
        "__Описание колонок:__\n",
        "\n",
        "- `player_id` - уникальный номер, идентифицирующий каждого игрока.\n",
        "- `game_version` - был ли пользователь отнесен к контрольной группе (`gate_30` - ворота на 30-м уровне) или к тестовой (`gate_40` - ворота на 40-м уровне).\n",
        "- `total_rounds` - число сессий, сыгранных игроком в течение первых 14 дней после установки игры.\n",
        "- `day1_retention` - вернулся ли игрок после __первого__ дня с момента установки?\n",
        "- `day7_retention` - вернулся ли игрок после __седьмого__ дня с момента установки?\n",
        "\n",
        "Когда игрок устанавливает игру, он/она случайным образом относятся либо к группе `gate_30`, либо `gate_40`. На всякий случай, давайте проверим, действительно ли их примерно поровну в каждой из группу."
      ],
      "metadata": {
        "id": "TQdtwgMzFytO"
      }
    },
    {
      "cell_type": "code",
      "source": [
        "def data_health_check(df):\n",
        "    print(\"Проверка данных:\")\n",
        "    print(f\"Дубликаты: {df.duplicated().sum()}\")\n",
        "    print(f\"Пропуски:\\n{df.isna().sum()}\")\n",
        "    print(\"\\nОписательная статистика:\")\n",
        "    print(df.describe().T)\n",
        "\n",
        "data_health_check(game_data)"
      ],
      "metadata": {
        "colab": {
          "base_uri": "https://localhost:8080/"
        },
        "id": "uJJyzubED227",
        "outputId": "92eccb20-d5e0-4ff3-cecb-78f0176097b9"
      },
      "execution_count": 65,
      "outputs": [
        {
          "output_type": "stream",
          "name": "stdout",
          "text": [
            "Проверка данных:\n",
            "Дубликаты: 0\n",
            "Пропуски:\n",
            "player_id         0\n",
            "game_version      0\n",
            "total_rounds      0\n",
            "day1_retention    0\n",
            "day7_retention    0\n",
            "dtype: int64\n",
            "\n",
            "Описательная статистика:\n",
            "                count          mean           std    min        25%  \\\n",
            "player_id     90189.0  4.998412e+06  2.883286e+06  116.0  2512230.0   \n",
            "total_rounds  90189.0  5.187246e+01  1.950509e+02    0.0        5.0   \n",
            "\n",
            "                    50%        75%        max  \n",
            "player_id     4995815.0  7496452.0  9999861.0  \n",
            "total_rounds       16.0       51.0    49854.0  \n"
          ]
        }
      ]
    },
    {
      "cell_type": "markdown",
      "source": [
        "Можно заметить сильную асимметрию: среднее значение (51.88) сильно больше медианы (16). Также 75% игроков играют ≤51 раунд, но максимальное значение — 49854. Можно увидеть, что 50% игроков прекращают игру после 16 раундов.\n",
        "\n",
        "Благодаря этой статистике можно выделить три группы:\n",
        "\n",
        "\"Новички\" (≤5 раундов) — 25% игроков\n",
        "\n",
        "\"Средние\" (6-51 раунд) — 50%\n",
        "\n",
        "\"Хардкорные\" (>51 раунда) — 25%"
      ],
      "metadata": {
        "id": "0g-Ex0ohGFqB"
      }
    },
    {
      "cell_type": "code",
      "source": [
        "plot_df = game_data.groupby('total_rounds')['player_id'].count()\n",
        "plt.figure(figsize=(12,6))\n",
        "ax = plot_df.head(100).plot()\n",
        "ax.set_xlabel(\"Число сыгранных раундов\")\n",
        "ax.set_ylabel(\"Число игроков\");"
      ],
      "metadata": {
        "colab": {
          "base_uri": "https://localhost:8080/",
          "height": 535
        },
        "id": "mqaOF9InEaXh",
        "outputId": "87737c92-4b4a-4e16-a00f-fb7797833bc6"
      },
      "execution_count": 66,
      "outputs": [
        {
          "output_type": "display_data",
          "data": {
            "text/plain": [
              "<Figure size 1200x600 with 1 Axes>"
            ],
            "image/png": "[encoded data removed]"
          },
          "metadata": {
            "image/png": {
              "width": 1004,
              "height": 518
            }
          }
        }
      ]
    },
    {
      "cell_type": "markdown",
      "source": [
        "На основе графика можно увидеть, что есть пик на 0, то есть большая часть игроков не начинает играть после установки. Но при этом некоторые пользователи остались играть и дошли до высокого уровня.\n",
        "\n"
      ],
      "metadata": {
        "id": "7Oyj4c28IZL4"
      }
    },
    {
      "cell_type": "markdown",
      "source": [
        "Но нам важно, чтобы игрокам была игра интересной и возвращались к ней снова и снова.\n",
        "\n",
        "Одной из ключевых метрик, используемых в игровой индустрии для оценки увлекательности игры, является удержание первого дня (1-day retention). Эта метрика показывает долю пользователей, которые вернулись к игре спустя сутки после её установки. Чем выше показатель удержания первого дня, тем проще в дальнейшем удерживать аудиторию и расширять базу фанатов."
      ],
      "metadata": {
        "id": "KbvT9E_aN4QY"
      }
    },
    {
      "cell_type": "code",
      "source": [
        "def calculate_retention_metrics(df, group_col, retention_col):\n",
        "    \"\"\"Расчет метрик удержания с доверительными интервалами\"\"\"\n",
        "    result = df.groupby(group_col)[retention_col].agg(\n",
        "        conversions=('sum'),\n",
        "        sample_size=('count'),\n",
        "        retention_rate=('mean')\n",
        "    ).reset_index()\n",
        "\n",
        "    # Расчет доверительных интервалов\n",
        "    ci_low, ci_high = [], []\n",
        "    for _, row in result.iterrows():\n",
        "        low, high = proportion_confint(\n",
        "            count=row['conversions'],\n",
        "            nobs=row['sample_size'],\n",
        "            alpha=0.05,\n",
        "            method='normal'\n",
        "        )\n",
        "        ci_low.append(low)\n",
        "        ci_high.append(high)\n",
        "\n",
        "    return result"
      ],
      "metadata": {
        "id": "66q0ulihD25b"
      },
      "execution_count": 67,
      "outputs": []
    },
    {
      "cell_type": "markdown",
      "source": [
        "**Анализ удержания на 1 день**"
      ],
      "metadata": {
        "id": "AigM-PZAOKsu"
      }
    },
    {
      "cell_type": "code",
      "source": [
        "retention_day1 = calculate_retention_metrics(game_data, 'game_version', 'day1_retention')\n",
        "print(\"\\nАнализ удержания на 1 день:\")\n",
        "print(retention_day1)"
      ],
      "metadata": {
        "colab": {
          "base_uri": "https://localhost:8080/"
        },
        "id": "bNGGAiusELXs",
        "outputId": "40cde893-7c7f-47a1-e523-3c057267ac6f"
      },
      "execution_count": 68,
      "outputs": [
        {
          "output_type": "stream",
          "name": "stdout",
          "text": [
            "\n",
            "Анализ удержания на 1 день:\n",
            "  game_version  conversions  sample_size  retention_rate\n",
            "0      gate_30        20034        44700        0.448188\n",
            "1      gate_40        20119        45489        0.442283\n"
          ]
        }
      ]
    },
    {
      "cell_type": "markdown",
      "source": [
        "Похоже, что у нас есть небольшое ухудшение в удержании первого дня retention_rate, если мы двигаем ворота к сороковому уровню (44.2%) в сравнении с контрольной группой, где ворота остались на 30-м уровне (44.8%)"
      ],
      "metadata": {
        "id": "otMho35EQb6F"
      }
    },
    {
      "cell_type": "markdown",
      "source": [
        "Теперь проверим значимость этого эффекта. Будем использовать тест о равенстве долей.\n",
        "\n",
        "$$\n",
        "\\begin{aligned}\n",
        "&H_0: \\hspace{2mm} p_{40} = p_{30} \\\\\n",
        "&H_1: \\hspace{2mm} p_{40} < p_{30}\n",
        "\\end{aligned}\n",
        "$$\n",
        "\n",
        "> **Предпосылки:** нет выбросов, много наблюдений. Наблюдения независимы. Тогда сможем использовать ЦПТ."
      ],
      "metadata": {
        "id": "WaadL6z2SoGh"
      }
    },
    {
      "cell_type": "code",
      "source": [
        "from statsmodels.stats.proportion import proportions_ztest\n",
        "\n",
        "alpha = 0.05 # уровень значимости = 5%\n",
        "\n",
        "m_obs = retention_day1.conversions.values\n",
        "p_obs = retention_day1.retention_rate.values\n",
        "n_obs = retention_day1.sample_size.values\n",
        "\n",
        "z_obs, p_val =  proportions_ztest(m_obs,\n",
        "                                  n_obs,\n",
        "                                  value=0,\n",
        "                                  alternative='larger')\n",
        "\n",
        "print(f\"Наблюдаемое значение статистики: {z_obs:.3}\")\n",
        "print(f\"P-значение: {p_val:.3}\")"
      ],
      "metadata": {
        "colab": {
          "base_uri": "https://localhost:8080/"
        },
        "id": "zWMaEzpRSryG",
        "outputId": "8d4b6d52-10bc-4fcd-f284-e71600f22bce"
      },
      "execution_count": 69,
      "outputs": [
        {
          "output_type": "stream",
          "name": "stdout",
          "text": [
            "Наблюдаемое значение статистики: 1.78\n",
            "P-значение: 0.0372\n"
          ]
        }
      ]
    },
    {
      "cell_type": "markdown",
      "source": [
        " P-значение меньше 0.05, поэтому гипотеза о равенстве отвергается на уровне значимости 5%"
      ],
      "metadata": {
        "id": "0Iid4R7XTzXb"
      }
    },
    {
      "cell_type": "markdown",
      "source": [
        "Теперь вычислим мошность этого эксперемента"
      ],
      "metadata": {
        "id": "rojxV_C5UCGr"
      }
    },
    {
      "cell_type": "code",
      "source": [
        "n_30, n_40 = n_obs  # размеры выборок\n",
        "p_30, p_40 = p_obs  # доли\n",
        "\n",
        "# дисперсии\n",
        "var_40, var_30 = p_40 * (1 - p_40), p_30 * (1 - p_30)\n",
        "\n",
        "# стандартизированный размер эффекта\n",
        "effect = (p_30 - p_40) / ((n_40* np.sqrt(var_40) + n_30 * np.sqrt(var_30)) / (n_40 + n_30))\n",
        "effect"
      ],
      "metadata": {
        "colab": {
          "base_uri": "https://localhost:8080/"
        },
        "id": "6Ip2mfR9UGrl",
        "outputId": "4a170890-42c0-4a89-9a06-61067cd2cd33"
      },
      "execution_count": 70,
      "outputs": [
        {
          "output_type": "execute_result",
          "data": {
            "text/plain": [
              "0.01188210610259806"
            ]
          },
          "metadata": {},
          "execution_count": 70
        }
      ]
    },
    {
      "cell_type": "markdown",
      "source": [
        "Это значение является небольшим, указывающим на слабую разницу между долями\n",
        "p\n",
        "30\n",
        "  и\n",
        "p\n",
        "40\n",
        " .\n",
        "Малый размер эффекта означает, что влияние изменения на метрику удержания первого дня минимально."
      ],
      "metadata": {
        "id": "J32XZsqGUwOI"
      }
    },
    {
      "cell_type": "code",
      "source": [
        "n_obs[1]/n_obs[0]"
      ],
      "metadata": {
        "colab": {
          "base_uri": "https://localhost:8080/"
        },
        "id": "bXLNlU5eUSkh",
        "outputId": "a560f8e3-3b73-40c3-d0ac-44a28fa9f24f"
      },
      "execution_count": 71,
      "outputs": [
        {
          "output_type": "execute_result",
          "data": {
            "text/plain": [
              "1.0176510067114093"
            ]
          },
          "metadata": {},
          "execution_count": 71
        }
      ]
    },
    {
      "cell_type": "markdown",
      "source": [
        "Размеры выборок практически одинаковы  "
      ],
      "metadata": {
        "id": "3-Ysoa97VChF"
      }
    },
    {
      "cell_type": "code",
      "source": [
        "from statsmodels.stats.power import zt_ind_solve_power\n",
        "\n",
        "zt_ind_solve_power(effect_size=effect,\n",
        "                   nobs1=sum(n_obs),\n",
        "                   alpha=0.05,\n",
        "                   power=None,\n",
        "                   ratio=n_obs[1]/n_obs[0],\n",
        "                   alternative='larger')"
      ],
      "metadata": {
        "colab": {
          "base_uri": "https://localhost:8080/"
        },
        "id": "PVvI2yPDUTNY",
        "outputId": "dd5115a6-13e8-40b7-95c6-b47e94cc8550"
      },
      "execution_count": 72,
      "outputs": [
        {
          "output_type": "execute_result",
          "data": {
            "text/plain": [
              "0.8131005106557109"
            ]
          },
          "metadata": {},
          "execution_count": 72
        }
      ]
    },
    {
      "cell_type": "markdown",
      "source": [
        "Мощность теста показывает вероятность того, что тест правильно обнаружит эффект, если он действительно существует. Значение 0.8131 превышает минимально рекомендуемое значение мощности 0.8."
      ],
      "metadata": {
        "id": "AFq7OqP8VIZL"
      }
    },
    {
      "cell_type": "markdown",
      "source": [
        "**Анализ удержания на 7 дней**"
      ],
      "metadata": {
        "id": "e7A3DO1COwGW"
      }
    },
    {
      "cell_type": "code",
      "source": [
        "retention_day7 = calculate_retention_metrics(game_data, 'game_version', 'day7_retention')\n",
        "print(\"\\nАнализ удержания на 7 дней:\")\n",
        "print(retention_day7)"
      ],
      "metadata": {
        "colab": {
          "base_uri": "https://localhost:8080/"
        },
        "id": "3U2ZspzGEND2",
        "outputId": "ec68ac20-c0e2-49e1-dd1f-5e695ae09585"
      },
      "execution_count": 73,
      "outputs": [
        {
          "output_type": "stream",
          "name": "stdout",
          "text": [
            "\n",
            "Анализ удержания на 7 дней:\n",
            "  game_version  conversions  sample_size  retention_rate\n",
            "0      gate_30         8502        44700        0.190201\n",
            "1      gate_40         8279        45489        0.182000\n"
          ]
        }
      ]
    },
    {
      "cell_type": "markdown",
      "source": [
        "Похоже, что у нас есть небольшое ухудшение в удержании первого дня retention_rate, если мы двигаем к сороковому уровню (18.2%) в сравнении с контрольной группой, где остались на 30-м уровне (19%)"
      ],
      "metadata": {
        "id": "WebBRdNfXZWx"
      }
    },
    {
      "cell_type": "markdown",
      "source": [
        "Видим, что удержание 7-го дня в целом ниже, чем удержание 1-го - спустя неделю намного меньше людей всё ещё заходит в игру."
      ],
      "metadata": {
        "id": "_iIzgZutXsQk"
      }
    },
    {
      "cell_type": "markdown",
      "source": [
        "Теперь проверим значимость этого эффекта. Будем использовать тест о равенстве долей.\n",
        "\n",
        "$$\n",
        "\\begin{aligned}\n",
        "&H_0: \\hspace{2mm} p_{40} = p_{30} \\\\\n",
        "&H_1: \\hspace{2mm} p_{40} < p_{30}\n",
        "\\end{aligned}\n",
        "$$\n",
        "\n",
        "> **Предпосылки:** нет выбросов, много наблюдений. Наблюдения независимы. Тогда сможем использовать ЦПТ."
      ],
      "metadata": {
        "id": "qncQoKR-XPFI"
      }
    },
    {
      "cell_type": "code",
      "source": [
        "from statsmodels.stats.proportion import proportions_ztest\n",
        "\n",
        "alpha = 0.05 # уровень значимости = 5%\n",
        "\n",
        "m_obs = retention_day7.conversions.values\n",
        "p_obs = retention_day7.retention_rate.values\n",
        "n_obs = retention_day7.sample_size.values\n",
        "\n",
        "z_obs, p_val =  proportions_ztest(m_obs,\n",
        "                                  n_obs,\n",
        "                                  value=0,\n",
        "                                  alternative='larger')\n",
        "\n",
        "print(f\"Наблюдаемое значение статистики: {z_obs:.3}\")\n",
        "print(f\"P-значение: {p_val:.3}\")"
      ],
      "metadata": {
        "colab": {
          "base_uri": "https://localhost:8080/"
        },
        "id": "uTVjkU0LVYuw",
        "outputId": "49b0d429-3377-482b-bc3d-c6a2cb9d86cd"
      },
      "execution_count": 74,
      "outputs": [
        {
          "output_type": "stream",
          "name": "stdout",
          "text": [
            "Наблюдаемое значение статистики: 3.16\n",
            "P-значение: 0.000777\n"
          ]
        }
      ]
    },
    {
      "cell_type": "markdown",
      "source": [
        "P-значение меньше 0.05, поэтому гипотеза о равенстве отвергается на уровне значимости 5%"
      ],
      "metadata": {
        "id": "wQ_eD1snX1rV"
      }
    },
    {
      "cell_type": "markdown",
      "source": [
        "Видим, что разница сильно значима. Для 7-дневного удержания произойдёт довольно мощный обвал."
      ],
      "metadata": {
        "id": "47HyPVwsYZ_6"
      }
    },
    {
      "cell_type": "markdown",
      "source": [
        "**Выводы**"
      ],
      "metadata": {
        "id": "8kk1fqCwYpKp"
      }
    },
    {
      "cell_type": "markdown",
      "source": [
        "Результаты A/B-теста демонстрируют, что 7-дневное удержание игроков значительно выше в группе, где ворота установлены на 30-м уровне, по сравнению с группой, где они находятся на 40-м уровне. Следовательно, чтобы сохранить высокий уровень удержания игроков и увеличить их количество, сдвигать ворота с 30-го уровня на 40-й нецелесообразно.\n",
        "\n",
        "Однако возникает вопрос: почему удержание выше, когда ворота расположены раньше?\n",
        "- Логично было бы предположить обратное — что более позднее размещение препятствия позволит игрокам дольше взаимодействовать с игрой. Тем не менее, данные показывают противоположное. Для объяснения этой ситуации можно обратиться к концепции гедонистической адаптации. Этот принцип говорит о том, что удовольствие от определенной деятельности снижается, если она длится слишком долго. Размещая ворота на 30-м уровне, мы заставляем игроков сделать паузу, тем самым усиливая их интерес к игре и стимулируя возвращаться к ней. Если же ворота появляются только на 40-м уровне, игроки успевают насытиться игровым процессом и начинают терять к нему интерес.\n",
        "- Раннее введение ограничений позволяет создать ощущение прогресса, а более позднее препятствие может ощущаться как \"потеря мотивации\", поскольку игроки могут застрять на более сложных уровнях."
      ],
      "metadata": {
        "id": "1G37pVHtY38W"
      }
    },
    {
      "cell_type": "markdown",
      "source": [
        "***Примечание***"
      ],
      "metadata": {
        "id": "dSqTE1BeY3_D"
      }
    },
    {
      "cell_type": "markdown",
      "source": [
        "Так как у нас нет данных, связанных с тем, что часть игроков вообще могла не дойти до ворот, то мы их не учитывали в эксперементе. Но их надо было бы учитывать, если бы они были. То есть надо было бы отфильтровать пользователей, которые не дошли в первый день до 30 уровня."
      ],
      "metadata": {
        "id": "ETEe6yeqY7Mo"
      }
    }
  ]
}